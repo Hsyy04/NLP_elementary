{
 "cells": [
  {
   "cell_type": "code",
   "execution_count": 3,
   "metadata": {},
   "outputs": [
    {
     "name": "stdout",
     "output_type": "stream",
     "text": [
      "[('keyphrases', 0.5265), ('extraction', 0.1847), ('similar', 0.1969), ('embeddings', 0.2981), ('idf', 0.2107)]\n"
     ]
    }
   ],
   "source": [
    "from keybert import KeyBERT\n",
    "with open('doc.txt','r') as f:\n",
    "    doc = f.read()\n",
    "kw_model = KeyBERT()\n",
    "seed_keywords = [\"information\"]\n",
    "key_words = kw_model.extract_keywords(doc, use_mmr=True, diversity=0.7)\n",
    "print(key_words)"
   ]
  },
  {
   "cell_type": "code",
   "execution_count": 13,
   "metadata": {},
   "outputs": [
    {
     "name": "stdout",
     "output_type": "stream",
     "text": [
      "[('keyphrases', 0.6223), ('similar', 0.2594), ('extraction', 0.1972), ('embeddings', 0.3098), ('rake', 0.1331)]\n"
     ]
    }
   ],
   "source": [
    "from keybert import KeyBERT\n",
    "with open('doc.txt','r') as f:\n",
    "    doc = f.read()\n",
    "kw_model = KeyBERT()\n",
    "seed_keywords = [\"key\",\"word\"]\n",
    "key_words = kw_model.extract_keywords(doc, use_mmr=True, diversity=0.7, seed_keywords=seed_keywords)\n",
    "print(key_words)"
   ]
  }
 ],
 "metadata": {
  "interpreter": {
   "hash": "5f710ce0216950a785dca8a3efb9156cb008195e8c6c32c2d0bf3c0477bbae4e"
  },
  "kernelspec": {
   "display_name": "Python 3.9.6 64-bit",
   "language": "python",
   "name": "python3"
  },
  "language_info": {
   "codemirror_mode": {
    "name": "ipython",
    "version": 3
   },
   "file_extension": ".py",
   "mimetype": "text/x-python",
   "name": "python",
   "nbconvert_exporter": "python",
   "pygments_lexer": "ipython3",
   "version": "3.9.6"
  },
  "orig_nbformat": 4
 },
 "nbformat": 4,
 "nbformat_minor": 2
}
