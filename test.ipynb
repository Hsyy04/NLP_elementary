{
 "cells": [
  {
   "cell_type": "code",
   "execution_count": 2,
   "metadata": {},
   "outputs": [],
   "source": [
    "import pandas as pd\n",
    "import os\n",
    "import jieba"
   ]
  },
  {
   "cell_type": "code",
   "execution_count": 98,
   "metadata": {},
   "outputs": [
    {
     "name": "stdout",
     "output_type": "stream",
     "text": [
      "(1179, 1)\n",
      "(3200, 2)\n"
     ]
    }
   ],
   "source": [
    "data_train = pd.read_csv(\"data\\ChnSentiCorp_htl_all\\\\train_1600+1600.csv\",header=0,names=['label','sentence'],keep_default_na=False)# label, review\n",
    "stop_word = pd.read_csv(\"data/stop_words.csv\",header=None,sep='!').values\n",
    "# print(data_train[:10])\n",
    "print(stop_word.shape)\n",
    "print(data_train.shape)"
   ]
  },
  {
   "cell_type": "code",
   "execution_count": null,
   "metadata": {},
   "outputs": [],
   "source": [
    "all_sentence = data_train.iloc\n",
    "print(type(all_sentence))\n",
    "print(all_sentence.shape)"
   ]
  },
  {
   "cell_type": "code",
   "execution_count": 99,
   "metadata": {},
   "outputs": [
    {
     "name": "stdout",
     "output_type": "stream",
     "text": [
      "[0 '']\n"
     ]
    }
   ],
   "source": [
    "word_set = {}\n",
    "id = 0\n",
    "for item in data_train.values:\n",
    "    words = jieba.lcut(item[1])\n",
    "    id+=1\n",
    "    if id == 2653:\n",
    "        print(item)\n",
    "    for i in words:\n",
    "        # if i in stop_word:\n",
    "        #     continue\n",
    "        try:\n",
    "            word_set[i]+=1\n",
    "        except:\n",
    "            word_set[i]=1\n",
    "\n",
    "# print(len(word_set))\n",
    "word_set_sort = sorted(word_set.items(),key=lambda x:x[1],reverse=False)\n",
    "# print(word_set_sort[:50])\n"
   ]
  },
  {
   "cell_type": "code",
   "execution_count": 74,
   "metadata": {},
   "outputs": [
    {
     "name": "stdout",
     "output_type": "stream",
     "text": [
      "219\n",
      "77711\n"
     ]
    }
   ],
   "source": [
    "cnt = 0\n",
    "other_cnt = 0\n",
    "for i in word_set.items():\n",
    "    if i[1] >= 100: \n",
    "        cnt+=1\n",
    "    else:\n",
    "        other_cnt+=i[1]\n",
    "\n",
    "print(cnt)\n",
    "print(other_cnt)"
   ]
  },
  {
   "cell_type": "code",
   "execution_count": 2,
   "metadata": {},
   "outputs": [
    {
     "name": "stdout",
     "output_type": "stream",
     "text": [
      "tensor([1., 0.])\n"
     ]
    }
   ],
   "source": [
    "import torch\n",
    "label = 0\n",
    "label = torch.zeros(2, dtype=torch.float).scatter_(dim=0, index=torch.tensor(label), value=1)\n",
    "print(label)"
   ]
  },
  {
   "cell_type": "code",
   "execution_count": 111,
   "metadata": {},
   "outputs": [
    {
     "name": "stdout",
     "output_type": "stream",
     "text": [
      "tensor([0., 0.], dtype=torch.float64)\n"
     ]
    }
   ],
   "source": [
    "import numpy as np\n",
    "keys = ['a','af']\n",
    "\n",
    "wd_dict = dict(zip(keys, np.zeros(len(keys))) )\n",
    "print((torch.tensor(list(wd_dict.values()))))"
   ]
  },
  {
   "cell_type": "code",
   "execution_count": null,
   "metadata": {},
   "outputs": [],
   "source": [
    "from torch.nn import functional as F\n",
    "tt = 0.0\n",
    "y_pred = torch.rand((4,2),dtype=float,requires_grad=True)\n",
    "y_pred = F.log_softmax(y_pred, dim=-1)\n",
    "\n",
    "y_std = torch.randint(0,2,(4,),dtype=torch.long)\n",
    "loss = F.nll_loss(y_pred, y_std)\n",
    "tt+=loss\n",
    "print(loss)\n",
    "loss = 0.0\n",
    "for i in range(4):\n",
    "    loss+=(-y_pred[i][y_std[i]])\n",
    "\n",
    "print(loss)\n",
    "loss/=4.0\n",
    "print(loss)\n",
    "print('\\n')\n",
    "\n",
    "y_pred = torch.rand((4,2),dtype=float,requires_grad=True)\n",
    "y_pred = F.log_softmax(y_pred, dim=-1)\n",
    "y_std = torch.randint(0,2,(4,),dtype=torch.long)\n",
    "loss = F.nll_loss(y_pred, y_std)\n",
    "tt+=loss\n",
    "print(loss)\n",
    "print(tt)\n",
    "loss = 0.0\n",
    "for i in range(4):\n",
    "    loss+=(-y_pred[i][y_std[i]])\n",
    "\n",
    "print(loss)\n",
    "print(loss/4.0)"
   ]
  },
  {
   "cell_type": "code",
   "execution_count": 6,
   "metadata": {},
   "outputs": [
    {
     "name": "stdout",
     "output_type": "stream",
     "text": [
      "tensor([[34.1650, 63.4272],\n",
      "        [58.3093, 80.9953],\n",
      "        [43.0227, 76.4752],\n",
      "        [20.2296,  1.9914]])\n",
      "tensor([[-29.2622,   0.0000],\n",
      "        [-22.6860,   0.0000],\n",
      "        [-33.4524,   0.0000],\n",
      "        [  0.0000, -18.2382]])\n",
      "tensor([[-29.2622,   0.0000],\n",
      "        [-22.6860,   0.0000],\n",
      "        [-33.4524,   0.0000],\n",
      "        [  0.0000, -18.2382]])\n"
     ]
    }
   ],
   "source": [
    "import torch\n",
    "from torch.nn import functional as F\n",
    "input = torch.rand((4,2))*100\n",
    "print(input)\n",
    "x=input\n",
    "x = F.softmax(x,dim=-1)\n",
    "torch.log_(x)\n",
    "print(x)\n",
    "\n",
    "x = input\n",
    "x = F.log_softmax(x, dim=-1)\n",
    "print(x)\n"
   ]
  }
 ],
 "metadata": {
  "interpreter": {
   "hash": "5f710ce0216950a785dca8a3efb9156cb008195e8c6c32c2d0bf3c0477bbae4e"
  },
  "kernelspec": {
   "display_name": "Python 3.9.6 64-bit",
   "language": "python",
   "name": "python3"
  },
  "language_info": {
   "codemirror_mode": {
    "name": "ipython",
    "version": 3
   },
   "file_extension": ".py",
   "mimetype": "text/x-python",
   "name": "python",
   "nbconvert_exporter": "python",
   "pygments_lexer": "ipython3",
   "version": "3.9.6"
  },
  "orig_nbformat": 4
 },
 "nbformat": 4,
 "nbformat_minor": 2
}
