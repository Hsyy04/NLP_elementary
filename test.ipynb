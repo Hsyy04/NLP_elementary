{
 "cells": [
  {
   "cell_type": "code",
   "execution_count": 1,
   "metadata": {},
   "outputs": [],
   "source": [
    "import pandas as pd\n",
    "import os\n",
    "import jieba\n",
    "from torch.nn import functional as F\n",
    "import torch\n",
    "import numpy as np\n",
    "import time"
   ]
  },
  {
   "cell_type": "code",
   "execution_count": null,
   "metadata": {},
   "outputs": [],
   "source": [
    "ts1 = torch.tensor([[[1,1,1],[1,1,1]],[[2,2,2],[2,2,2]],[[1,1,1],[1,1,1]]],dtype=torch.float64)\n",
    "# 3*1*2*3\n",
    "ts1 = ts1.reshape((3,1,2,3))\n",
    "ts2 = torch.ones((2,3,2),dtype=torch.float64)\n",
    "\n",
    "res1 = ts1@ts2 #3*2*2*2\n",
    "res2 = ts1@ts2 #3*2*2*2\n",
    "print(res1)\n",
    "res = res1@res2\n",
    "print(res.shape)"
   ]
  },
  {
   "cell_type": "code",
   "execution_count": 2,
   "metadata": {},
   "outputs": [
    {
     "ename": "TypeError",
     "evalue": "list indices must be integers or slices, not float",
     "output_type": "error",
     "traceback": [
      "\u001b[1;31m---------------------------------------------------------------------------\u001b[0m",
      "\u001b[1;31mTypeError\u001b[0m                                 Traceback (most recent call last)",
      "\u001b[1;32m~\\AppData\\Local\\Temp/ipykernel_21768/870417249.py\u001b[0m in \u001b[0;36m<module>\u001b[1;34m\u001b[0m\n\u001b[0;32m      2\u001b[0m \u001b[0mmask_pos\u001b[0m\u001b[1;33m=\u001b[0m\u001b[1;33m[\u001b[0m\u001b[1;36m1\u001b[0m\u001b[1;33m,\u001b[0m\u001b[1;36m1\u001b[0m\u001b[1;33m,\u001b[0m\u001b[1;36m1\u001b[0m\u001b[1;33m,\u001b[0m\u001b[1;36m1\u001b[0m\u001b[1;33m,\u001b[0m\u001b[1;36m1\u001b[0m\u001b[1;33m]\u001b[0m\u001b[1;33m\u001b[0m\u001b[1;33m\u001b[0m\u001b[0m\n\u001b[0;32m      3\u001b[0m \u001b[0mmask_num\u001b[0m\u001b[1;33m:\u001b[0m\u001b[0mint\u001b[0m \u001b[1;33m=\u001b[0m \u001b[0mlen\u001b[0m\u001b[1;33m(\u001b[0m\u001b[0mmask_pos\u001b[0m\u001b[1;33m)\u001b[0m\u001b[1;33m*\u001b[0m\u001b[0mmask_prob\u001b[0m\u001b[1;33m\u001b[0m\u001b[1;33m\u001b[0m\u001b[0m\n\u001b[1;32m----> 4\u001b[1;33m \u001b[0mprint\u001b[0m\u001b[1;33m(\u001b[0m\u001b[0mmask_pos\u001b[0m\u001b[1;33m[\u001b[0m\u001b[0mmask_num\u001b[0m\u001b[1;33m]\u001b[0m\u001b[1;33m)\u001b[0m\u001b[1;33m\u001b[0m\u001b[1;33m\u001b[0m\u001b[0m\n\u001b[0m",
      "\u001b[1;31mTypeError\u001b[0m: list indices must be integers or slices, not float"
     ]
    }
   ],
   "source": [
    "mask_prob=0.15\n",
    "mask_pos=[1,1,1,1,1]\n",
    "mask_num:int = len(mask_pos)*mask_prob\n",
    "print(mask_pos[mask_num])"
   ]
  },
  {
   "cell_type": "code",
   "execution_count": 98,
   "metadata": {},
   "outputs": [
    {
     "name": "stdout",
     "output_type": "stream",
     "text": [
      "(1179, 1)\n",
      "(3200, 2)\n"
     ]
    }
   ],
   "source": [
    "data_train = pd.read_csv(\"data\\ChnSentiCorp_htl_all\\\\train_1600+1600.csv\",header=0,names=['label','sentence'],keep_default_na=False)# label, review\n",
    "stop_word = pd.read_csv(\"data/stop_words.csv\",header=None,sep='!').values\n",
    "# print(data_train[:10])\n",
    "print(stop_word.shape)\n",
    "print(data_train.shape)"
   ]
  },
  {
   "cell_type": "code",
   "execution_count": null,
   "metadata": {},
   "outputs": [],
   "source": [
    "all_sentence = data_train.iloc\n",
    "print(type(all_sentence))\n",
    "print(all_sentence.shape)"
   ]
  },
  {
   "cell_type": "code",
   "execution_count": 99,
   "metadata": {},
   "outputs": [
    {
     "name": "stdout",
     "output_type": "stream",
     "text": [
      "[0 '']\n"
     ]
    }
   ],
   "source": [
    "word_set = {}\n",
    "id = 0\n",
    "for item in data_train.values:\n",
    "    words = jieba.lcut(item[1])\n",
    "    id+=1\n",
    "    if id == 2653:\n",
    "        print(item)\n",
    "    for i in words:\n",
    "        # if i in stop_word:\n",
    "        #     continue\n",
    "        try:\n",
    "            word_set[i]+=1\n",
    "        except:\n",
    "            word_set[i]=1\n",
    "\n",
    "# print(len(word_set))\n",
    "word_set_sort = sorted(word_set.items(),key=lambda x:x[1],reverse=False)\n",
    "# print(word_set_sort[:50])\n"
   ]
  },
  {
   "cell_type": "code",
   "execution_count": 74,
   "metadata": {},
   "outputs": [
    {
     "name": "stdout",
     "output_type": "stream",
     "text": [
      "219\n",
      "77711\n"
     ]
    }
   ],
   "source": [
    "cnt = 0\n",
    "other_cnt = 0\n",
    "for i in word_set.items():\n",
    "    if i[1] >= 100: \n",
    "        cnt+=1\n",
    "    else:\n",
    "        other_cnt+=i[1]\n",
    "\n",
    "print(cnt)\n",
    "print(other_cnt)"
   ]
  },
  {
   "cell_type": "code",
   "execution_count": 2,
   "metadata": {},
   "outputs": [
    {
     "name": "stdout",
     "output_type": "stream",
     "text": [
      "tensor([1., 0.])\n"
     ]
    }
   ],
   "source": [
    "\n",
    "label = 0\n",
    "label = torch.zeros(2, dtype=torch.float).scatter_(dim=0, index=torch.tensor(label), value=1)\n",
    "print(label)"
   ]
  },
  {
   "cell_type": "code",
   "execution_count": 2,
   "metadata": {},
   "outputs": [
    {
     "data": {
      "text/plain": [
       "[[1, 1, 1, 1, 1, 1, 1, 1, 1, 1]]"
      ]
     },
     "execution_count": 2,
     "metadata": {},
     "output_type": "execute_result"
    }
   ],
   "source": [
    "l = [[1]*10]\n",
    "l"
   ]
  },
  {
   "cell_type": "code",
   "execution_count": 111,
   "metadata": {},
   "outputs": [
    {
     "name": "stdout",
     "output_type": "stream",
     "text": [
      "tensor([0., 0.], dtype=torch.float64)\n"
     ]
    }
   ],
   "source": [
    "\n",
    "keys = ['a','af']\n",
    "\n",
    "wd_dict = dict(zip(keys, np.zeros(len(keys))) )\n",
    "print((torch.tensor(list(wd_dict.values()))))"
   ]
  },
  {
   "cell_type": "code",
   "execution_count": null,
   "metadata": {},
   "outputs": [],
   "source": [
    "\n",
    "tt = 0.0\n",
    "y_pred = torch.rand((4,2),dtype=float,requires_grad=True)\n",
    "y_pred = F.log_softmax(y_pred, dim=-1)\n",
    "\n",
    "y_std = torch.randint(0,2,(4,),dtype=torch.long)\n",
    "loss = F.nll_loss(y_pred, y_std)\n",
    "tt+=loss\n",
    "print(loss)\n",
    "loss = 0.0\n",
    "for i in range(4):\n",
    "    loss+=(-y_pred[i][y_std[i]])\n",
    "\n",
    "print(loss)\n",
    "loss/=4.0\n",
    "print(loss)\n",
    "print('\\n')\n",
    "\n",
    "y_pred = torch.rand((4,2),dtype=float,requires_grad=True)\n",
    "y_pred = F.log_softmax(y_pred, dim=-1)\n",
    "y_std = torch.randint(0,2,(4,),dtype=torch.long)\n",
    "loss = F.nll_loss(y_pred, y_std)\n",
    "tt+=loss\n",
    "print(loss)\n",
    "print(tt)\n",
    "loss = 0.0\n",
    "for i in range(4):\n",
    "    loss+=(-y_pred[i][y_std[i]])\n",
    "\n",
    "print(loss)\n",
    "print(loss/4.0)"
   ]
  },
  {
   "cell_type": "code",
   "execution_count": null,
   "metadata": {},
   "outputs": [],
   "source": [
    "\n",
    "input = torch.rand((4,2))*100\n",
    "print(input)\n",
    "x=input\n",
    "x = F.softmax(x,dim=-1)\n",
    "torch.log_(x)\n",
    "print(x)\n",
    "\n",
    "x = input\n",
    "x = F.log_softmax(x, dim=-1)\n",
    "print(x)\n"
   ]
  },
  {
   "cell_type": "code",
   "execution_count": null,
   "metadata": {},
   "outputs": [],
   "source": [
    "import torch\n",
    "\n",
    "x = torch.ones(5)  # input tensor\n",
    "y = torch.zeros(3)  # expected output\n",
    "w = torch.randn(5, 3, requires_grad=True)\n",
    "b = torch.randn(3, requires_grad=True)\n",
    "z = torch.matmul(x, w)+b\n",
    "loss = torch.nn.functional.binary_cross_entropy_with_logits(z, y)\n",
    "loss.backward()\n",
    "print(w.grad)\n",
    "print(b.grad)\n",
    "w.grad = None\n",
    "b.grad = None\n",
    "# x[0] = 1\n",
    "z = torch.matmul(x, w)+b\n",
    "loss = torch.nn.functional.binary_cross_entropy_with_logits(z, y)\n",
    "loss.backward()\n",
    "print(w.grad)\n",
    "print(b.grad)\n"
   ]
  },
  {
   "cell_type": "code",
   "execution_count": 3,
   "metadata": {},
   "outputs": [
    {
     "name": "stdout",
     "output_type": "stream",
     "text": [
      "time.struct_time(tm_year=2021, tm_mon=12, tm_mday=28, tm_hour=10, tm_min=7, tm_sec=30, tm_wday=1, tm_yday=362, tm_isdst=0)\n"
     ]
    }
   ],
   "source": [
    "now = int(round(time.time()*1000))\n",
    "tm = time.localtime(now/1000)\n",
    "print(f\"{tm}\")"
   ]
  },
  {
   "cell_type": "code",
   "execution_count": 2,
   "metadata": {},
   "outputs": [
    {
     "name": "stdout",
     "output_type": "stream",
     "text": [
      "tensor([[0.5000, 1.0000, 1.5000],\n",
      "        [1.3333, 1.6667, 2.0000]], dtype=torch.float64)\n"
     ]
    }
   ],
   "source": [
    "import torch\n",
    "os.environ['CUDA_VISIBLE_DEVICES']='1'  # here chose the GPU\n",
    "torch.cuda.empty_cache()\n",
    "device = 'cuda' if torch.cuda.is_available() else 'cpu'\n",
    "print(f'Using {device} device')\n",
    "device = torch.device(device)\n",
    "ts1 = torch.Tensor([[1,2,3],[4,5,6]]).to(float).to(device)\n",
    "print(ts1)"
   ]
  }
 ],
 "metadata": {
  "interpreter": {
   "hash": "5f710ce0216950a785dca8a3efb9156cb008195e8c6c32c2d0bf3c0477bbae4e"
  },
  "kernelspec": {
   "display_name": "Python 3.9.6 64-bit",
   "language": "python",
   "name": "python3"
  },
  "language_info": {
   "codemirror_mode": {
    "name": "ipython",
    "version": 3
   },
   "file_extension": ".py",
   "mimetype": "text/x-python",
   "name": "python",
   "nbconvert_exporter": "python",
   "pygments_lexer": "ipython3",
   "version": "3.9.6"
  },
  "orig_nbformat": 4
 },
 "nbformat": 4,
 "nbformat_minor": 2
}
