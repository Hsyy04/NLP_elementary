{
 "cells": [
  {
   "cell_type": "code",
   "execution_count": 1,
   "metadata": {},
   "outputs": [],
   "source": [
    "import pandas as pd\n",
    "import os\n",
    "import jieba\n",
    "from torch.nn import functional as F\n",
    "import torch\n",
    "import numpy as np\n",
    "import time"
   ]
  },
  {
   "cell_type": "code",
   "execution_count": 98,
   "metadata": {},
   "outputs": [
    {
     "name": "stdout",
     "output_type": "stream",
     "text": [
      "(1179, 1)\n",
      "(3200, 2)\n"
     ]
    }
   ],
   "source": [
    "data_train = pd.read_csv(\"data\\ChnSentiCorp_htl_all\\\\train_1600+1600.csv\",header=0,names=['label','sentence'],keep_default_na=False)# label, review\n",
    "stop_word = pd.read_csv(\"data/stop_words.csv\",header=None,sep='!').values\n",
    "# print(data_train[:10])\n",
    "print(stop_word.shape)\n",
    "print(data_train.shape)"
   ]
  },
  {
   "cell_type": "code",
   "execution_count": null,
   "metadata": {},
   "outputs": [],
   "source": [
    "all_sentence = data_train.iloc\n",
    "print(type(all_sentence))\n",
    "print(all_sentence.shape)"
   ]
  },
  {
   "cell_type": "code",
   "execution_count": 99,
   "metadata": {},
   "outputs": [
    {
     "name": "stdout",
     "output_type": "stream",
     "text": [
      "[0 '']\n"
     ]
    }
   ],
   "source": [
    "word_set = {}\n",
    "id = 0\n",
    "for item in data_train.values:\n",
    "    words = jieba.lcut(item[1])\n",
    "    id+=1\n",
    "    if id == 2653:\n",
    "        print(item)\n",
    "    for i in words:\n",
    "        # if i in stop_word:\n",
    "        #     continue\n",
    "        try:\n",
    "            word_set[i]+=1\n",
    "        except:\n",
    "            word_set[i]=1\n",
    "\n",
    "# print(len(word_set))\n",
    "word_set_sort = sorted(word_set.items(),key=lambda x:x[1],reverse=False)\n",
    "# print(word_set_sort[:50])\n"
   ]
  },
  {
   "cell_type": "code",
   "execution_count": 74,
   "metadata": {},
   "outputs": [
    {
     "name": "stdout",
     "output_type": "stream",
     "text": [
      "219\n",
      "77711\n"
     ]
    }
   ],
   "source": [
    "cnt = 0\n",
    "other_cnt = 0\n",
    "for i in word_set.items():\n",
    "    if i[1] >= 100: \n",
    "        cnt+=1\n",
    "    else:\n",
    "        other_cnt+=i[1]\n",
    "\n",
    "print(cnt)\n",
    "print(other_cnt)"
   ]
  },
  {
   "cell_type": "code",
   "execution_count": 2,
   "metadata": {},
   "outputs": [
    {
     "name": "stdout",
     "output_type": "stream",
     "text": [
      "tensor([1., 0.])\n"
     ]
    }
   ],
   "source": [
    "\n",
    "label = 0\n",
    "label = torch.zeros(2, dtype=torch.float).scatter_(dim=0, index=torch.tensor(label), value=1)\n",
    "print(label)"
   ]
  },
  {
   "cell_type": "code",
   "execution_count": 4,
   "metadata": {},
   "outputs": [
    {
     "name": "stdout",
     "output_type": "stream",
     "text": [
      "torch.Size([5, 4])\n"
     ]
    }
   ],
   "source": [
    "v1 = torch.rand(5,2)\n",
    "v2 = torch.rand(5,2)\n",
    "v = torch.cat((v1,v2),1)\n",
    "print(v.shape)"
   ]
  },
  {
   "cell_type": "code",
   "execution_count": 111,
   "metadata": {},
   "outputs": [
    {
     "name": "stdout",
     "output_type": "stream",
     "text": [
      "tensor([0., 0.], dtype=torch.float64)\n"
     ]
    }
   ],
   "source": [
    "\n",
    "keys = ['a','af']\n",
    "\n",
    "wd_dict = dict(zip(keys, np.zeros(len(keys))) )\n",
    "print((torch.tensor(list(wd_dict.values()))))"
   ]
  },
  {
   "cell_type": "code",
   "execution_count": null,
   "metadata": {},
   "outputs": [],
   "source": [
    "\n",
    "tt = 0.0\n",
    "y_pred = torch.rand((4,2),dtype=float,requires_grad=True)\n",
    "y_pred = F.log_softmax(y_pred, dim=-1)\n",
    "\n",
    "y_std = torch.randint(0,2,(4,),dtype=torch.long)\n",
    "loss = F.nll_loss(y_pred, y_std)\n",
    "tt+=loss\n",
    "print(loss)\n",
    "loss = 0.0\n",
    "for i in range(4):\n",
    "    loss+=(-y_pred[i][y_std[i]])\n",
    "\n",
    "print(loss)\n",
    "loss/=4.0\n",
    "print(loss)\n",
    "print('\\n')\n",
    "\n",
    "y_pred = torch.rand((4,2),dtype=float,requires_grad=True)\n",
    "y_pred = F.log_softmax(y_pred, dim=-1)\n",
    "y_std = torch.randint(0,2,(4,),dtype=torch.long)\n",
    "loss = F.nll_loss(y_pred, y_std)\n",
    "tt+=loss\n",
    "print(loss)\n",
    "print(tt)\n",
    "loss = 0.0\n",
    "for i in range(4):\n",
    "    loss+=(-y_pred[i][y_std[i]])\n",
    "\n",
    "print(loss)\n",
    "print(loss/4.0)"
   ]
  },
  {
   "cell_type": "code",
   "execution_count": null,
   "metadata": {},
   "outputs": [],
   "source": [
    "\n",
    "input = torch.rand((4,2))*100\n",
    "print(input)\n",
    "x=input\n",
    "x = F.softmax(x,dim=-1)\n",
    "torch.log_(x)\n",
    "print(x)\n",
    "\n",
    "x = input\n",
    "x = F.log_softmax(x, dim=-1)\n",
    "print(x)\n"
   ]
  },
  {
   "cell_type": "code",
   "execution_count": null,
   "metadata": {},
   "outputs": [],
   "source": [
    "import torch\n",
    "\n",
    "x = torch.ones(5)  # input tensor\n",
    "y = torch.zeros(3)  # expected output\n",
    "w = torch.randn(5, 3, requires_grad=True)\n",
    "b = torch.randn(3, requires_grad=True)\n",
    "z = torch.matmul(x, w)+b\n",
    "loss = torch.nn.functional.binary_cross_entropy_with_logits(z, y)\n",
    "loss.backward()\n",
    "print(w.grad)\n",
    "print(b.grad)\n",
    "w.grad = None\n",
    "b.grad = None\n",
    "# x[0] = 1\n",
    "z = torch.matmul(x, w)+b\n",
    "loss = torch.nn.functional.binary_cross_entropy_with_logits(z, y)\n",
    "loss.backward()\n",
    "print(w.grad)\n",
    "print(b.grad)\n"
   ]
  },
  {
   "cell_type": "code",
   "execution_count": 3,
   "metadata": {},
   "outputs": [
    {
     "name": "stdout",
     "output_type": "stream",
     "text": [
      "time.struct_time(tm_year=2021, tm_mon=12, tm_mday=28, tm_hour=10, tm_min=7, tm_sec=30, tm_wday=1, tm_yday=362, tm_isdst=0)\n"
     ]
    }
   ],
   "source": [
    "\n",
    "now = int(round(time.time()*1000))\n",
    "tm = time.localtime(now/1000)\n",
    "print(f\"{tm}\")"
   ]
  },
  {
   "cell_type": "code",
   "execution_count": 1,
   "metadata": {},
   "outputs": [
    {
     "name": "stdout",
     "output_type": "stream",
     "text": [
      "[1, 1, 1, 1, 1, 1, 1, 1, 1, 1]\n"
     ]
    }
   ],
   "source": [
    "lt = [1]*10\n",
    "print(lt)"
   ]
  },
  {
   "cell_type": "code",
   "execution_count": 5,
   "metadata": {},
   "outputs": [
    {
     "name": "stdout",
     "output_type": "stream",
     "text": [
      "tensor([[ 5.2462e-01,  3.3580e-01,  1.4399e+00,  2.2043e-01,  5.0470e-01,\n",
      "         -0.0000e+00,  1.2358e-01, -3.9067e-01,  1.6860e+00, -0.0000e+00,\n",
      "         -1.0877e-01,  1.9628e-01,  9.1246e-01,  7.4128e-01,  0.0000e+00,\n",
      "         -8.5440e-02],\n",
      "        [-8.4848e-01,  1.5464e-01, -3.4464e-01,  0.0000e+00, -7.3336e-01,\n",
      "         -1.2872e+00, -0.0000e+00,  1.4119e+00,  3.0855e-01, -5.9190e-01,\n",
      "          3.6452e+00,  0.0000e+00, -9.9343e-01, -0.0000e+00,  1.0132e+00,\n",
      "          1.3593e+00],\n",
      "        [-5.6101e-01, -4.3539e-01,  1.3291e+00, -1.4730e+00, -5.9722e-01,\n",
      "         -4.3017e-01,  2.0307e+00,  1.1433e+00, -8.5839e-01,  6.4796e-01,\n",
      "          1.0786e+00,  6.1886e-01, -2.1661e-01, -3.2959e-01, -1.9487e-01,\n",
      "         -0.0000e+00],\n",
      "        [ 9.9750e-01,  1.3809e+00,  0.0000e+00, -0.0000e+00,  1.6244e+00,\n",
      "         -0.0000e+00, -6.9642e-01, -9.8187e-01, -0.0000e+00,  7.7633e-01,\n",
      "          8.9039e-01, -9.7560e-01,  7.2703e-01, -1.6321e+00,  1.1412e+00,\n",
      "         -0.0000e+00],\n",
      "        [-0.0000e+00, -1.1454e+00, -2.9105e-01,  0.0000e+00, -7.3587e-01,\n",
      "         -8.0542e-01,  4.8234e-01,  1.1306e+00, -6.4136e-01,  7.3247e-01,\n",
      "         -2.6663e+00, -2.1457e-01, -1.3858e+00, -2.6638e-01, -0.0000e+00,\n",
      "          0.0000e+00],\n",
      "        [ 0.0000e+00, -0.0000e+00, -0.0000e+00, -1.5562e-01, -2.5836e-01,\n",
      "         -8.4411e-01,  1.0327e+00, -1.7087e+00,  6.9533e-01, -1.3874e+00,\n",
      "          0.0000e+00,  1.3626e+00,  9.3301e-01, -9.3415e-01,  0.0000e+00,\n",
      "         -0.0000e+00],\n",
      "        [ 3.3399e-01, -0.0000e+00, -1.3640e+00, -0.0000e+00,  9.6263e-01,\n",
      "         -8.3231e-01,  1.7418e-02, -2.7464e-02,  1.0363e+00,  4.9902e-02,\n",
      "          2.0161e+00,  0.0000e+00, -8.9067e-01, -1.6529e+00, -3.1715e-01,\n",
      "          8.1748e-01],\n",
      "        [ 0.0000e+00,  1.2231e+00, -2.1650e-01, -0.0000e+00,  1.2148e+00,\n",
      "          2.7446e-02, -1.1644e+00, -1.1113e-01,  0.0000e+00,  1.3118e+00,\n",
      "         -8.4609e-01, -9.6512e-02, -1.3452e+00, -3.6481e-01,  2.1177e+00,\n",
      "          1.2108e+00],\n",
      "        [-2.4141e-03, -5.2251e-01, -8.5918e-01, -1.3511e+00,  2.6854e+00,\n",
      "          0.0000e+00,  1.3007e+00,  5.1292e-01,  5.7342e-01, -1.6909e+00,\n",
      "          1.6825e+00, -0.0000e+00, -1.8949e+00,  6.2351e-01, -0.0000e+00,\n",
      "          1.3476e+00],\n",
      "        [-1.4848e+00, -0.0000e+00,  3.1702e-01,  2.6427e+00, -0.0000e+00,\n",
      "          2.4605e+00, -2.4339e-01,  1.2805e+00,  7.4816e-01, -0.0000e+00,\n",
      "          1.3121e+00,  1.2043e+00,  1.2991e-01, -8.4671e-02,  1.0844e+00,\n",
      "          0.0000e+00],\n",
      "        [-0.0000e+00,  5.6817e-01, -1.1823e+00, -7.7474e-01, -9.9669e-02,\n",
      "         -1.0425e+00,  1.5117e-01,  3.9147e-01,  1.2384e+00,  5.9733e-01,\n",
      "          6.8281e-01, -1.0570e-01, -0.0000e+00, -5.7511e-01,  1.9387e+00,\n",
      "          6.0518e-01],\n",
      "        [ 1.4706e+00,  9.0173e-01, -2.5499e-01, -3.5876e-01,  0.0000e+00,\n",
      "         -7.1455e-03, -0.0000e+00,  1.5225e+00,  1.6256e+00,  7.3456e-01,\n",
      "         -2.1520e+00,  5.6239e-02,  3.1555e+00,  2.3885e+00,  1.6325e+00,\n",
      "          2.2018e+00],\n",
      "        [-1.3638e-01, -2.1767e-01, -4.8244e-01,  1.7962e-01,  3.2384e-01,\n",
      "         -1.0899e+00, -3.1499e+00,  0.0000e+00, -3.0355e-02,  6.8086e-02,\n",
      "         -9.6257e-01,  0.0000e+00,  3.8830e-01,  2.5519e-01,  0.0000e+00,\n",
      "         -2.6863e-01],\n",
      "        [ 1.5921e+00, -1.2117e+00, -0.0000e+00,  0.0000e+00, -2.2642e+00,\n",
      "          4.0936e-01, -3.9218e-01,  0.0000e+00,  1.3025e+00,  0.0000e+00,\n",
      "          1.8305e-01,  0.0000e+00,  1.2305e+00,  1.0566e+00, -6.5458e-01,\n",
      "          0.0000e+00],\n",
      "        [ 4.3176e-01,  2.7780e+00, -0.0000e+00,  1.3253e+00, -1.1230e+00,\n",
      "         -6.5141e-01, -1.1495e+00,  0.0000e+00,  6.8262e-01,  0.0000e+00,\n",
      "         -9.0130e-01,  7.9787e-01,  1.2927e+00, -0.0000e+00, -0.0000e+00,\n",
      "         -1.7031e+00],\n",
      "        [-1.0924e-01,  0.0000e+00, -1.2430e+00, -2.8723e-01, -4.5647e-01,\n",
      "          0.0000e+00,  3.1028e-01,  1.3998e+00,  4.1211e-02,  1.4806e+00,\n",
      "          4.9700e-01, -3.9048e-01, -1.8425e+00, -5.6642e-01, -1.3614e-01,\n",
      "         -8.6807e-01],\n",
      "        [-0.0000e+00, -1.7168e+00,  0.0000e+00,  2.0295e-01, -9.9639e-01,\n",
      "          0.0000e+00, -0.0000e+00, -3.7336e-01, -6.4330e-01,  3.0899e-02,\n",
      "          1.3732e+00, -1.6765e+00, -0.0000e+00, -6.8275e-01, -0.0000e+00,\n",
      "          0.0000e+00],\n",
      "        [ 1.2290e-01, -9.4487e-01, -9.1094e-02,  3.9938e-02, -6.6394e-01,\n",
      "         -1.1123e+00,  0.0000e+00,  0.0000e+00, -3.0851e-01, -6.3448e-01,\n",
      "         -2.0653e-01,  1.4423e+00, -2.2794e+00, -0.0000e+00, -2.2592e+00,\n",
      "         -5.8032e-01],\n",
      "        [-7.1405e-01,  1.3341e+00, -1.0294e+00, -4.0325e-01,  1.4192e+00,\n",
      "         -8.8981e-01,  1.2997e+00, -1.4938e+00,  8.7964e-01,  6.9891e-01,\n",
      "         -1.9263e+00,  2.1394e-01, -1.3577e+00, -1.8193e+00,  0.0000e+00,\n",
      "          9.3742e-01],\n",
      "        [-7.5487e-01,  8.5980e-02, -1.4713e+00, -3.3691e-01, -2.0583e+00,\n",
      "          6.1200e-01,  4.7467e-01, -3.8867e-01, -2.1284e-01, -2.5863e-01,\n",
      "         -9.2983e-01, -6.0779e-01,  0.0000e+00,  1.5665e+00, -9.7192e-01,\n",
      "         -4.4006e-01]])\n"
     ]
    }
   ],
   "source": [
    "m = torch.nn.Dropout(p=0.2)\n",
    "input = torch.randn(20, 16)\n",
    "output = m(input)\n",
    "print(output)"
   ]
  }
 ],
 "metadata": {
  "interpreter": {
   "hash": "5f710ce0216950a785dca8a3efb9156cb008195e8c6c32c2d0bf3c0477bbae4e"
  },
  "kernelspec": {
   "display_name": "Python 3.9.6 64-bit",
   "language": "python",
   "name": "python3"
  },
  "language_info": {
   "codemirror_mode": {
    "name": "ipython",
    "version": 3
   },
   "file_extension": ".py",
   "mimetype": "text/x-python",
   "name": "python",
   "nbconvert_exporter": "python",
   "pygments_lexer": "ipython3",
   "version": "3.9.6"
  },
  "orig_nbformat": 4
 },
 "nbformat": 4,
 "nbformat_minor": 2
}
